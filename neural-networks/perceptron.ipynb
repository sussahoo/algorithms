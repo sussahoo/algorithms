{
 "cells": [
  {
   "cell_type": "markdown",
   "metadata": {},
   "source": [
    "# Simple Perceptron"
   ]
  },
  {
   "cell_type": "markdown",
   "metadata": {},
   "source": [
    "A perceptron classifier is a simple model of a neuron. It has different (inputs) $(x_{1}...x_{n})$ with different weights $(w_{1}...w_{n})$\n",
    "$ s = \\sum\\limits_{i=0}^n w_{i} \\cdot x_{i}$\n",
    "\n",
    "The weighted sum $s$ of these inputs is then passed through a step function $f$.\n",
    "$$  \n",
    "f(s) = \n",
    "     \\begin{cases}\n",
    "       \\text{1,} &\\quad\\text{if s} \\geqslant \\text{0} \\\\\n",
    "       \\text{0,} &\\quad\\text{otherwise}\n",
    "     \\end{cases}\n",
    "$$"
   ]
  },
  {
   "cell_type": "code",
   "execution_count": 39,
   "metadata": {
    "collapsed": false
   },
   "outputs": [
    {
     "name": "stdout",
     "output_type": "stream",
     "text": [
      "[0 0]: -0.08074629231353464 -> 0\n",
      "[0 1]: 0.14240993984357597 -> 1\n",
      "[1 0]: 0.9161403038462215 -> 1\n",
      "[1 1]: 1.139296536003332 -> 1\n"
     ]
    },
    {
     "data": {
      "text/plain": [
       "[<matplotlib.lines.Line2D at 0x7fcfb43b81d0>]"
      ]
     },
     "execution_count": 39,
     "metadata": {},
     "output_type": "execute_result"
    },
    {
     "data": {
      "image/png": "[encoded data removed]",
      "text/plain": [
       "<matplotlib.figure.Figure at 0x7fcfb4435358>"
      ]
     },
     "metadata": {},
     "output_type": "display_data"
    }
   ],
   "source": [
    "%matplotlib inline\n",
    "from random import choice\n",
    "from numpy import array, dot, random\n",
    "\n",
    "# Threshold function\n",
    "unit_step = lambda x: 0 if x < 0 else 1\n",
    "\n",
    "training_data = [\n",
    "    (array([0,0, 1]), 0),\n",
    "    (array([0,1,1]), 1),\n",
    "    (array([1,0,1]), 1),\n",
    "    (array([1,1,1]), 1),\n",
    "]\n",
    "\n",
    "# Weights\n",
    "w = random.rand(3)\n",
    "# Errors\n",
    "errors = []\n",
    "# Learning rate\n",
    "eta = 0.2\n",
    "# Training iterations\n",
    "n = 500\n",
    "\n",
    "# Training\n",
    "for i in range(n):\n",
    "    x, expected = choice(training_data)\n",
    "    result = dot(w, x)\n",
    "    error = expected - unit_step(result)\n",
    "    errors.append(error)\n",
    "    w += eta * error * x\n",
    "\n",
    "# Testing\n",
    "for x, _ in training_data:\n",
    "    result = dot(x, w)\n",
    "    print(\"{}: {} -> {}\".format(x[:2], result, unit_step(result)))\n",
    "    \n",
    "\n",
    "from pylab import plot, ylim\n",
    "ylim([-1, 1])\n",
    "plot(errors)"
   ]
  }
 ],
 "metadata": {
  "kernelspec": {
   "display_name": "Python 3",
   "language": "python",
   "name": "python3"
  },
  "language_info": {
   "codemirror_mode": {
    "name": "ipython",
    "version": 3
   },
   "file_extension": ".py",
   "mimetype": "text/x-python",
   "name": "python",
   "nbconvert_exporter": "python",
   "pygments_lexer": "ipython3",
   "version": "3.5.2"
  }
 },
 "nbformat": 4,
 "nbformat_minor": 1
}
