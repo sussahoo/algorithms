{
 "cells": [
  {
   "cell_type": "code",
   "execution_count": 1,
   "metadata": {
    "collapsed": false
   },
   "outputs": [],
   "source": [
    "# Maximum pairwise product\n",
    "\"\"\"\n",
    "Problem\n",
    "\n",
    "Given a sequence of non-negative integers a0,…,an−1, find the maximum pairwise product, that is,\n",
    "the largest integer that can be obtained by multiplying two different elements from the sequence \n",
    "(or, more formally, max0≤i≠j≤n−1aiaj). \n",
    "Different elements here mean ai and aj with i≠j (it can be the case that ai=aj).\n",
    "\n",
    "Input format\n",
    "\n",
    "The first line of the input contains an integer n. \n",
    "The next line contains n non-negative integers a0,…,an−1 (separated by spaces).\n",
    "\n",
    "Constraints\n",
    "\n",
    "2≤n≤2⋅105; 0≤a0,…,an−1≤105.\n",
    "\n",
    "Output format\n",
    "\n",
    "Output a single number — the maximum pairwise product.\n",
    "\n",
    "\n",
    "\"\"\"\n",
    "import heapq\n",
    "\n",
    "def maximum_pairwise_product(l):\n",
    "    max_1, max_2 = heapq.nlargest(2, l)\n",
    "    return max_1 * max_2\n"
   ]
  },
  {
   "cell_type": "code",
   "execution_count": 2,
   "metadata": {
    "collapsed": false
   },
   "outputs": [
    {
     "data": {
      "text/plain": [
       "196"
      ]
     },
     "execution_count": 2,
     "metadata": {},
     "output_type": "execute_result"
    }
   ],
   "source": [
    "l = [1, 2, 3, 10, 14, 14, 14, 7, 6, 5]\n",
    "maximum_pairwise_product(l)"
   ]
  }
 ],
 "metadata": {
  "kernelspec": {
   "display_name": "Python 3",
   "language": "python",
   "name": "python3"
  },
  "language_info": {
   "codemirror_mode": {
    "name": "ipython",
    "version": 3
   },
   "file_extension": ".py",
   "mimetype": "text/x-python",
   "name": "python",
   "nbconvert_exporter": "python",
   "pygments_lexer": "ipython3",
   "version": "3.5.1+"
  }
 },
 "nbformat": 4,
 "nbformat_minor": 1
}
